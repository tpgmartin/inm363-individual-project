{
 "metadata": {
  "language_info": {
   "codemirror_mode": {
    "name": "ipython",
    "version": 3
   },
   "file_extension": ".py",
   "mimetype": "text/x-python",
   "name": "python",
   "nbconvert_exporter": "python",
   "pygments_lexer": "ipython3",
   "version": "3.7.3-final"
  },
  "orig_nbformat": 2,
  "kernelspec": {
   "name": "python37364bit97cc074eeaff48c5be43e7c63edf6129",
   "display_name": "Python 3.7.3 64-bit"
  }
 },
 "nbformat": 4,
 "nbformat_minor": 2,
 "cells": [
  {
   "source": [
    "This notebook is to find the relationship between the provided image labels by finding the cosine similarities according to a pre-trained word embedding."
   ],
   "cell_type": "markdown",
   "metadata": {}
  },
  {
   "cell_type": "code",
   "execution_count": 1,
   "metadata": {},
   "outputs": [],
   "source": [
    "import gensim\n",
    "import gensim.downloader as api\n",
    "import nltk\n",
    "import numpy as np\n",
    "import pandas as pd"
   ]
  },
  {
   "cell_type": "code",
   "execution_count": 2,
   "metadata": {},
   "outputs": [],
   "source": [
    "word2vec_model = api.load('word2vec-google-news-300')  "
   ]
  },
  {
   "cell_type": "code",
   "execution_count": 3,
   "metadata": {},
   "outputs": [],
   "source": [
    "glove_model = api.load('glove-wiki-gigaword-300')"
   ]
  },
  {
   "cell_type": "code",
   "execution_count": 25,
   "metadata": {},
   "outputs": [],
   "source": [
    "def get_labels(filename):\n",
    "\n",
    "    raw_labels = pd.read_csv(filename, names=['label'], skiprows=1)\n",
    "    raw_labels = raw_labels.values\n",
    "    labels = [l.replace('_',' ').strip().lower() for label in raw_labels for l in label]\n",
    "\n",
    "    return raw_labels, labels"
   ]
  },
  {
   "cell_type": "code",
   "execution_count": 26,
   "metadata": {},
   "outputs": [],
   "source": [
    "def init_dataframe(raw_labels, labels):\n",
    "\n",
    "    df = pd.DataFrame()\n",
    "    df['label'] = labels\n",
    "    df['raw_label'] = raw_labels\n",
    "    df['most_similar_label'] = ''\n",
    "    df['cosine_similarity'] = np.nan\n",
    "\n",
    "    return df"
   ]
  },
  {
   "cell_type": "code",
   "execution_count": 27,
   "metadata": {},
   "outputs": [],
   "source": [
    "def check_label_in_vocab(label, model):\n",
    "\n",
    "    try:\n",
    "        model.most_similar(label)\n",
    "        return label\n",
    "    except KeyError:\n",
    "        return"
   ]
  },
  {
   "cell_type": "code",
   "execution_count": 28,
   "metadata": {
    "tags": []
   },
   "outputs": [],
   "source": [
    "def find_label_similarities(df, labels_in_vocab, model):\n",
    "\n",
    "    for idx, row in df.iterrows():\n",
    "        label_found = True\n",
    "        max_similarity = 0\n",
    "        most_similar_label = None\n",
    "        target_label = row['label']\n",
    "\n",
    "        for label in labels_in_vocab:\n",
    "            if target_label != label:\n",
    "                try:\n",
    "                    similarity = model.similarity(target_label, label)\n",
    "                    if similarity > max_similarity:\n",
    "                        max_similarity = similarity\n",
    "                        most_similar_label = label\n",
    "                except KeyError:\n",
    "                    label_found = False\n",
    "                    break\n",
    "        \n",
    "        if label_found:\n",
    "            df.at[idx,'most_similar_label'] = most_similar_label\n",
    "            df.at[idx,'cosine_similarity'] = max_similarity\n",
    "    \n",
    "    return df\n",
    "        \n"
   ]
  },
  {
   "cell_type": "code",
   "execution_count": 30,
   "metadata": {},
   "outputs": [],
   "source": [
    "# Word2Vec model, all labels\n",
    "model = word2vec_model\n",
    "filename = '../imagenet_labels.txt'\n",
    "\n",
    "raw_labels, labels = get_labels(filename)\n",
    "df = init_dataframe(raw_labels, labels)\n",
    "labels_in_vocab = [label for label in labels if check_label_in_vocab(label, model) is not None]\n",
    "df = find_label_similarities(df, labels_in_vocab, model)\n",
    "\n",
    "df.to_csv('../label_similarities/all_labels_word2vec_sim.csv', index=False)"
   ]
  },
  {
   "cell_type": "code",
   "execution_count": 31,
   "metadata": {},
   "outputs": [
    {
     "output_type": "stream",
     "name": "stdout",
     "text": [
      "Labels found in Word2Vec: 545\n"
     ]
    }
   ],
   "source": [
    "print('Labels found in Word2Vec:', df[df['cosine_similarity'].notna()].shape[0])"
   ]
  },
  {
   "cell_type": "code",
   "execution_count": 32,
   "metadata": {},
   "outputs": [],
   "source": [
    "# Word2Vec model, label subset\n",
    "model = word2vec_model\n",
    "filename = '../labels/class_labels_subset.txt'\n",
    "\n",
    "raw_labels, labels = get_labels(filename)\n",
    "df = init_dataframe(raw_labels, labels)\n",
    "labels_in_vocab = [label for label in labels if check_label_in_vocab(label, model) is not None]\n",
    "df = find_label_similarities(df, labels_in_vocab, model)\n",
    "\n",
    "df.to_csv('../label_similarities/class_label_subset_word2vec_sim.csv', index=False)"
   ]
  },
  {
   "cell_type": "code",
   "execution_count": 33,
   "metadata": {},
   "outputs": [
    {
     "output_type": "stream",
     "name": "stdout",
     "text": [
      "Subset labels found in Word2Vec: 58\n"
     ]
    }
   ],
   "source": [
    "print('Subset labels found in Word2Vec:', df[df['cosine_similarity'].notna()].shape[0])"
   ]
  },
  {
   "cell_type": "code",
   "execution_count": 34,
   "metadata": {},
   "outputs": [],
   "source": [
    "# GloVe model, all labels\n",
    "model = glove_model\n",
    "filename = '../imagenet_labels.txt'\n",
    "\n",
    "raw_labels, labels = get_labels(filename)\n",
    "df = init_dataframe(raw_labels, labels)\n",
    "labels_in_vocab = [label for label in labels if check_label_in_vocab(label, model) is not None]\n",
    "df = find_label_similarities(df, labels_in_vocab, model)\n",
    "\n",
    "df.to_csv('../label_similarities/all_labels_glove_sim.csv', index=False)"
   ]
  },
  {
   "cell_type": "code",
   "execution_count": 35,
   "metadata": {},
   "outputs": [
    {
     "output_type": "stream",
     "name": "stdout",
     "text": [
      "Labels found in GloVe: 555\n"
     ]
    }
   ],
   "source": [
    "print('Labels found in GloVe:', df[df['cosine_similarity'].notna()].shape[0])"
   ]
  },
  {
   "cell_type": "code",
   "execution_count": 36,
   "metadata": {},
   "outputs": [],
   "source": [
    "# GloVe model, label subset\n",
    "model = glove_model\n",
    "filename = '../labels/class_labels_subset.txt'\n",
    "\n",
    "raw_labels, labels = get_labels(filename)\n",
    "df = init_dataframe(raw_labels, labels)\n",
    "labels_in_vocab = [label for label in labels if check_label_in_vocab(label, model) is not None]\n",
    "df = find_label_similarities(df, labels_in_vocab, model)\n",
    "\n",
    "df.to_csv('../label_similarities/class_label_subset_glove_sim.csv', index=False)"
   ]
  },
  {
   "cell_type": "code",
   "execution_count": 37,
   "metadata": {},
   "outputs": [
    {
     "output_type": "stream",
     "name": "stdout",
     "text": [
      "Subset labels found in GloVe: 57\n"
     ]
    }
   ],
   "source": [
    "print('Subset labels found in GloVe:', df[df['cosine_similarity'].notna()].shape[0])"
   ]
  },
  {
   "cell_type": "code",
   "execution_count": null,
   "metadata": {},
   "outputs": [],
   "source": []
  }
 ]
}